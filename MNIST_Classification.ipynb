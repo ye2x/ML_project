{
  "nbformat": 4,
  "nbformat_minor": 0,
  "metadata": {
    "colab": {
      "provenance": [],
      "authorship_tag": "ABX9TyNVsFA6a+hzS7KLlWetLFNr",
      "include_colab_link": true
    },
    "kernelspec": {
      "name": "python3",
      "display_name": "Python 3"
    },
    "language_info": {
      "name": "python"
    }
  },
  "cells": [
    {
      "cell_type": "markdown",
      "metadata": {
        "id": "view-in-github",
        "colab_type": "text"
      },
      "source": [
        "<a href=\"https://colab.research.google.com/github/ye2x/ML_project/blob/main/MNIST_Classification.ipynb\" target=\"_parent\"><img src=\"https://colab.research.google.com/assets/colab-badge.svg\" alt=\"Open In Colab\"/></a>"
      ]
    },
    {
      "cell_type": "code",
      "execution_count": 1,
      "metadata": {
        "id": "JTaOxmw0Ueav"
      },
      "outputs": [],
      "source": [
        "#@title Import relevant modules\n",
        "import numpy as np\n",
        "import pandas as pd\n",
        "import tensorflow as tf\n",
        "from tensorflow.keras import layers\n",
        "from matplotlib import pyplot as plt\n",
        "\n",
        "# The following lines adjust the granularity of reporting. \n",
        "pd.options.display.max_rows = 10\n",
        "pd.options.display.float_format = \"{:.1f}\".format\n",
        "\n",
        "# The following line improves formatting when ouputting NumPy arrays.\n",
        "np.set_printoptions(linewidth = 200)"
      ]
    },
    {
      "cell_type": "code",
      "source": [
        "(x_train, y_train),(x_test, y_test) = tf.keras.datasets.mnist.load_data()\n"
      ],
      "metadata": {
        "colab": {
          "base_uri": "https://localhost:8080/"
        },
        "id": "SiV3noscVFdm",
        "outputId": "d7584ca1-6d50-4092-b57b-2328f1ddb3c0"
      },
      "execution_count": 2,
      "outputs": [
        {
          "output_type": "stream",
          "name": "stdout",
          "text": [
            "Downloading data from https://storage.googleapis.com/tensorflow/tf-keras-datasets/mnist.npz\n",
            "11490434/11490434 [==============================] - 0s 0us/step\n"
          ]
        }
      ]
    },
    {
      "cell_type": "code",
      "source": [
        "# Output example #2917 of the training set.\n",
        "x_train[2917]"
      ],
      "metadata": {
        "colab": {
          "base_uri": "https://localhost:8080/"
        },
        "id": "_DP96ZkdV8iG",
        "outputId": "b8bb47e9-c6e5-4326-8fdf-3b73bbd0fb50"
      },
      "execution_count": 3,
      "outputs": [
        {
          "output_type": "execute_result",
          "data": {
            "text/plain": [
              "array([[  0,   0,   0,   0,   0,   0,   0,   0,   0,   0,   0,   0,   0,   0,   0,   0,   0,   0,   0,   0,   0,   0,   0,   0,   0,   0,   0,   0],\n",
              "       [  0,   0,   0,   0,   0,   0,   0,   0,   0,   0,   0,   0,   0,   0,   0,   0,   0,   0,   0,   0,   0,   0,   0,   0,   0,   0,   0,   0],\n",
              "       [  0,   0,   0,   0,   0,   0,   0,   0,   0,   0,   0,   0,   0,   0,   0,   0,   0,   0,   0,   0,   0,   0,   0,   0,   0,   0,   0,   0],\n",
              "       [  0,   0,   0,   0,   0,   0,   0,   0,   0,   0,   0,   0,   0,   0,   0,   0,   0,   0,   0,   0,   0,   0,   0,   0,   0,   0,   0,   0],\n",
              "       [  0,   0,   0,   0,   0,   0,   0,   0,   0,   0,   0,   0,   0,   0,   0,   0,   0,   0,   0,   0,   0,   0,   0,   0,   0,   0,   0,   0],\n",
              "       [  0,   0,   0,   0,   0,   0,   0,   0,   0,   0,   0,   0,   0,   0,   0,   0,   0,   0,   0,   0,   0,   0,   0,   0,   0,   0,   0,   0],\n",
              "       [  0,   0,   0,   0,   0,   0,   0,   0, 127, 100, 156, 239, 224, 177, 213, 159,  70,  13,   0,   0,   0,   0,   0,   0,   0,   0,   0,   0],\n",
              "       [  0,   0,   0,   0,   0,   0,   0, 110, 250, 254, 254, 254, 254, 254, 254, 254, 254, 184,  10,   0,   0,   0,   0,   0,   0,   0,   0,   0],\n",
              "       [  0,   0,   0,   0,   0,   0,   0, 216, 254, 254, 254, 254, 254, 254, 254, 254, 254, 251,  54,   0,   0,   0,   0,   0,   0,   0,   0,   0],\n",
              "       [  0,   0,   0,   0,   0,   0,   0,   3, 131, 197,  68, 137, 101,  83,  41,  70, 221, 254, 108,   0,   0,   0,   0,   0,   0,   0,   0,   0],\n",
              "       [  0,   0,   0,   0,   0,   0,   0,   0,   0,   0,   0,   0,   0,   0,   0,   0,  58, 254, 216,  11,   0,   0,   0,   0,   0,   0,   0,   0],\n",
              "       [  0,   0,   0,   0,   0,   0,   0,   0,   0,   0,   0,   0,   0,   0,   0,   0, 110, 254, 254,  24,   0,   0,   0,   0,   0,   0,   0,   0],\n",
              "       [  0,   0,   0,   0,   0,   0,   0,   0,   0,   0,   0,   0,   0,   0,   4,  83, 247, 254, 192,  10,   0,   0,   0,   0,   0,   0,   0,   0],\n",
              "       [  0,   0,   0,   0,   0,   0,   0,   0,   0,   0,   0,   0,   0,  37, 124, 254, 254, 250,  47,   0,   0,   0,   0,   0,   0,   0,   0,   0],\n",
              "       [  0,   0,   0,   0,   0,   0,   0,   0,   0,   0,   0, 113, 178, 250, 254, 254, 254, 252, 178, 128,  50,   0,   0,   0,   0,   0,   0,   0],\n",
              "       [  0,   0,   0,   0,   0,   0,   0,   0,   0,   0,  69, 252, 254, 254, 254, 254, 254, 254, 254, 254, 153,   0,   0,   0,   0,   0,   0,   0],\n",
              "       [  0,   0,   0,   0,   0,   0,   0,   0,   0,   0, 141, 252, 254, 241, 241, 254, 247, 252, 254, 254, 153,   0,   0,   0,   0,   0,   0,   0],\n",
              "       [  0,   0,   0,   0,   0,   0,   0,   0,   0,   0,   0,  68,  82,   5,   5,  82,  37,  65, 167, 254, 190,   0,   0,   0,   0,   0,   0,   0],\n",
              "       [  0,   0,   0,   0,   0,   0,   0,   0,   0,   0,   0,   0,   0,   0,   0,   0,   0,   0, 162, 254, 153,   0,   0,   0,   0,   0,   0,   0],\n",
              "       [  0,   0,   0,   0,   0,   0,   0,   0,   0,   0,   0,   0,   0,   0,   0,   0,   0,   1, 172, 253,  75,   0,   0,   0,   0,   0,   0,   0],\n",
              "       [  0,   0,   0,   0,   0,   0,   0,   0,   0,   0,   0,   0,   0,   0,   0,   0,   0, 102, 254, 152,   0,   0,   0,   0,   0,   0,   0,   0],\n",
              "       [  0,   0,   0,   0,   0,   0,   0,   0,   0,   0,   0,   0,   0,   0,   0,   0,  38, 230, 216,  20,   0,   0,   0,   0,   0,   0,   0,   0],\n",
              "       [  0,   0,   0,   0,   0,   0,   0,   0,   0,   0,   0,   0,   0,   0,   1,  71, 222, 254, 142,   0,   0,   0,   0,   0,   0,   0,   0,   0],\n",
              "       [  0,   0,   0,   0,   0,   0,   0,   0,   0,   0,   0,   0,   0,   0,  66, 254, 254, 157,   0,   0,   0,   0,   0,   0,   0,   0,   0,   0],\n",
              "       [  0,   0,   0,   0,   0,   0,   0,   0,   4,  34,  34,  78, 161, 226, 249, 254, 154,   6,   0,   0,   0,   0,   0,   0,   0,   0,   0,   0],\n",
              "       [  0,   0,   0,   0,   0,   0,   0,  96, 184, 254, 254, 254, 254, 254, 249,  93,   5,   0,   0,   0,   0,   0,   0,   0,   0,   0,   0,   0],\n",
              "       [  0,   0,   0,   0,   0,   0,   0,   0,   0,   0,   0,   0,   0,   0,   0,   0,   0,   0,   0,   0,   0,   0,   0,   0,   0,   0,   0,   0],\n",
              "       [  0,   0,   0,   0,   0,   0,   0,   0,   0,   0,   0,   0,   0,   0,   0,   0,   0,   0,   0,   0,   0,   0,   0,   0,   0,   0,   0,   0]], dtype=uint8)"
            ]
          },
          "metadata": {},
          "execution_count": 3
        }
      ]
    },
    {
      "cell_type": "code",
      "source": [
        "# Use false colors to visualize the array.\n",
        "plt.imshow(x_train[2917])"
      ],
      "metadata": {
        "colab": {
          "base_uri": "https://localhost:8080/",
          "height": 448
        },
        "id": "tzIir2SDV-za",
        "outputId": "038927f8-333c-45e0-e493-423bfbf3bc47"
      },
      "execution_count": 4,
      "outputs": [
        {
          "output_type": "execute_result",
          "data": {
            "text/plain": [
              "<matplotlib.image.AxesImage at 0x7f0d7831cdc0>"
            ]
          },
          "metadata": {},
          "execution_count": 4
        },
        {
          "output_type": "display_data",
          "data": {
            "text/plain": [
              "<Figure size 640x480 with 1 Axes>"
            ],
            "image/png": "[encoded data removed]"
          },
          "metadata": {}
        }
      ]
    },
    {
      "cell_type": "code",
      "source": [
        "# Output row #10 of example #2917.\n",
        "x_train[2917][10]"
      ],
      "metadata": {
        "colab": {
          "base_uri": "https://localhost:8080/"
        },
        "id": "CYs9nfgkWCiD",
        "outputId": "00c0d021-7189-4cab-9231-59be4f87c4f7"
      },
      "execution_count": 5,
      "outputs": [
        {
          "output_type": "execute_result",
          "data": {
            "text/plain": [
              "array([  0,   0,   0,   0,   0,   0,   0,   0,   0,   0,   0,   0,   0,   0,   0,   0,  58, 254, 216,  11,   0,   0,   0,   0,   0,   0,   0,   0], dtype=uint8)"
            ]
          },
          "metadata": {},
          "execution_count": 5
        }
      ]
    },
    {
      "cell_type": "code",
      "source": [
        "# Output pixel #16 of row #10 of example #2900.\n",
        "x_train[2900][10][16]"
      ],
      "metadata": {
        "colab": {
          "base_uri": "https://localhost:8080/"
        },
        "id": "nYihLYKiWE1C",
        "outputId": "447c0729-4ae6-4243-a33e-6b36963f5e9f"
      },
      "execution_count": 6,
      "outputs": [
        {
          "output_type": "execute_result",
          "data": {
            "text/plain": [
              "0"
            ]
          },
          "metadata": {},
          "execution_count": 6
        }
      ]
    },
    {
      "cell_type": "code",
      "source": [
        "#@title Double-click to see a solution to Task 1. \n",
        "\n",
        "x_train_normalized = x_train / 255.0\n",
        "x_test_normalized = x_test / 255.0\n",
        "print(x_train_normalized[2900][10]) # Output a normalized row"
      ],
      "metadata": {
        "colab": {
          "base_uri": "https://localhost:8080/"
        },
        "id": "XAC6yZ1RWPtL",
        "outputId": "2b9c9a1b-c753-4150-91ce-2b0e40fe1736"
      },
      "execution_count": 7,
      "outputs": [
        {
          "output_type": "stream",
          "name": "stdout",
          "text": [
            "[0.         0.         0.         0.         0.         0.         0.         0.55294118 1.         0.66666667 0.11372549 0.         0.         0.         0.         0.         0.         0.\n",
            " 0.         0.         0.         0.         0.         0.         0.         0.         0.         0.        ]\n"
          ]
        }
      ]
    },
    {
      "cell_type": "code",
      "source": [
        "#@title Define the plotting function\n",
        "def plot_curve(epochs, hist, list_of_metrics):\n",
        "  \"\"\"Plot a curve of one or more classification metrics vs. epoch.\"\"\"  \n",
        "  # list_of_metrics should be one of the names shown in:\n",
        "  # https://www.tensorflow.org/tutorials/structured_data/imbalanced_data#define_the_model_and_metrics  \n",
        "\n",
        "  plt.figure()\n",
        "  plt.xlabel(\"Epoch\")\n",
        "  plt.ylabel(\"Value\")\n",
        "\n",
        "  for m in list_of_metrics:\n",
        "    x = hist[m]\n",
        "    plt.plot(epochs[1:], x[1:], label=m)\n",
        "\n",
        "  plt.legend()\n",
        "\n",
        "print(\"Loaded the plot_curve function.\")"
      ],
      "metadata": {
        "colab": {
          "base_uri": "https://localhost:8080/"
        },
        "id": "F02Y8DDRWUbE",
        "outputId": "5a9031eb-ed05-40a8-da97-130dcaddaa27"
      },
      "execution_count": 8,
      "outputs": [
        {
          "output_type": "stream",
          "name": "stdout",
          "text": [
            "Loaded the plot_curve function.\n"
          ]
        }
      ]
    },
    {
      "cell_type": "code",
      "source": [
        "def create_model(my_learning_rate):\n",
        "  \"\"\"Create and compile a deep neural net.\"\"\"\n",
        "  \n",
        "  # All models in this course are sequential.\n",
        "  model = tf.keras.models.Sequential()\n",
        "\n",
        "  # The features are stored in a two-dimensional 28X28 array. \n",
        "  # Flatten that two-dimensional array into a one-dimensional \n",
        "  # 784-element array.\n",
        "  model.add(tf.keras.layers.Flatten(input_shape=(28, 28)))\n",
        "\n",
        "  # Define the first hidden layer.   \n",
        "  model.add(tf.keras.layers.Dense(units=256, activation='relu'))\n",
        "  model.add(tf.keras.layers.Dense(units=128, activation='relu'))\n",
        "  \n",
        "  # Define a dropout regularization layer. \n",
        "  model.add(tf.keras.layers.Dropout(rate=0.2))\n",
        "\n",
        "  # Define the output layer. The units parameter is set to 10 because\n",
        "  # the model must choose among 10 possible output values (representing\n",
        "  # the digits from 0 to 9, inclusive).\n",
        "  #\n",
        "  # Don't change this layer.\n",
        "  model.add(tf.keras.layers.Dense(units=10, activation='softmax'))     \n",
        "                           \n",
        "  # Construct the layers into a model that TensorFlow can execute.  \n",
        "  # Notice that the loss function for multi-class classification\n",
        "  # is different than the loss function for binary classification.  \n",
        "  model.compile(optimizer=tf.keras.optimizers.Adam(learning_rate=my_learning_rate),\n",
        "                loss=\"sparse_categorical_crossentropy\",\n",
        "                metrics=['accuracy'])\n",
        "  \n",
        "  return model    \n",
        "\n",
        "\n",
        "def train_model(model, train_features, train_label, epochs,\n",
        "                batch_size=None, validation_split=0.1):\n",
        "  \"\"\"Train the model by feeding it data.\"\"\"\n",
        "\n",
        "  history = model.fit(x=train_features, y=train_label, batch_size=batch_size,\n",
        "                      epochs=epochs, shuffle=True, \n",
        "                      validation_split=validation_split)\n",
        " \n",
        "  # To track the progression of training, gather a snapshot\n",
        "  # of the model's metrics at each epoch. \n",
        "  epochs = history.epoch\n",
        "  hist = pd.DataFrame(history.history)\n",
        "\n",
        "  return epochs, hist    "
      ],
      "metadata": {
        "id": "TTO4X8cqWnk1"
      },
      "execution_count": 13,
      "outputs": []
    },
    {
      "cell_type": "code",
      "source": [
        "# The following variables are the hyperparameters.\n",
        "learning_rate = 0.003\n",
        "epochs = 50\n",
        "batch_size = 4000\n",
        "validation_split = 0.2\n",
        "\n",
        "# Establish the model's topography.\n",
        "my_model = create_model(learning_rate)\n",
        "\n",
        "# Train the model on the normalized training set.\n",
        "epochs, hist = train_model(my_model, x_train_normalized, y_train, \n",
        "                           epochs, batch_size, validation_split)\n",
        "\n",
        "# Plot a graph of the metric vs. epochs.\n",
        "list_of_metrics_to_plot = ['accuracy']\n",
        "plot_curve(epochs, hist, list_of_metrics_to_plot)\n",
        "\n",
        "# Evaluate against the test set.\n",
        "print(\"\\n Evaluate the new model against the test set:\")\n",
        "my_model.evaluate(x=x_test_normalized, y=y_test, batch_size=batch_size)"
      ],
      "metadata": {
        "colab": {
          "base_uri": "https://localhost:8080/",
          "height": 1000
        },
        "id": "gyvauK2_W-X2",
        "outputId": "a57390cb-fdc3-44e4-ab17-3ddbcb303d70"
      },
      "execution_count": 14,
      "outputs": [
        {
          "output_type": "stream",
          "name": "stdout",
          "text": [
            "Epoch 1/50\n",
            "12/12 [==============================] - 2s 136ms/step - loss: 0.9814 - accuracy: 0.7121 - val_loss: 0.3276 - val_accuracy: 0.9070\n",
            "Epoch 2/50\n",
            "12/12 [==============================] - 1s 116ms/step - loss: 0.3442 - accuracy: 0.8976 - val_loss: 0.2320 - val_accuracy: 0.9326\n",
            "Epoch 3/50\n",
            "12/12 [==============================] - 1s 118ms/step - loss: 0.2379 - accuracy: 0.9295 - val_loss: 0.1794 - val_accuracy: 0.9488\n",
            "Epoch 4/50\n",
            "12/12 [==============================] - 1s 113ms/step - loss: 0.1841 - accuracy: 0.9454 - val_loss: 0.1526 - val_accuracy: 0.9552\n",
            "Epoch 5/50\n",
            "12/12 [==============================] - 2s 199ms/step - loss: 0.1536 - accuracy: 0.9550 - val_loss: 0.1352 - val_accuracy: 0.9582\n",
            "Epoch 6/50\n",
            "12/12 [==============================] - 2s 142ms/step - loss: 0.1275 - accuracy: 0.9622 - val_loss: 0.1191 - val_accuracy: 0.9653\n",
            "Epoch 7/50\n",
            "12/12 [==============================] - 1s 112ms/step - loss: 0.1075 - accuracy: 0.9687 - val_loss: 0.1114 - val_accuracy: 0.9676\n",
            "Epoch 8/50\n",
            "12/12 [==============================] - 1s 111ms/step - loss: 0.0964 - accuracy: 0.9720 - val_loss: 0.1037 - val_accuracy: 0.9692\n",
            "Epoch 9/50\n",
            "12/12 [==============================] - 1s 114ms/step - loss: 0.0828 - accuracy: 0.9753 - val_loss: 0.0990 - val_accuracy: 0.9705\n",
            "Epoch 10/50\n",
            "12/12 [==============================] - 1s 118ms/step - loss: 0.0708 - accuracy: 0.9787 - val_loss: 0.0926 - val_accuracy: 0.9728\n",
            "Epoch 11/50\n",
            "12/12 [==============================] - 1s 113ms/step - loss: 0.0633 - accuracy: 0.9812 - val_loss: 0.0931 - val_accuracy: 0.9718\n",
            "Epoch 12/50\n",
            "12/12 [==============================] - 1s 116ms/step - loss: 0.0563 - accuracy: 0.9835 - val_loss: 0.0890 - val_accuracy: 0.9730\n",
            "Epoch 13/50\n",
            "12/12 [==============================] - 1s 127ms/step - loss: 0.0501 - accuracy: 0.9856 - val_loss: 0.0855 - val_accuracy: 0.9744\n",
            "Epoch 14/50\n",
            "12/12 [==============================] - 2s 210ms/step - loss: 0.0438 - accuracy: 0.9877 - val_loss: 0.0859 - val_accuracy: 0.9750\n",
            "Epoch 15/50\n",
            "12/12 [==============================] - 1s 113ms/step - loss: 0.0398 - accuracy: 0.9884 - val_loss: 0.0847 - val_accuracy: 0.9758\n",
            "Epoch 16/50\n",
            "12/12 [==============================] - 1s 112ms/step - loss: 0.0364 - accuracy: 0.9900 - val_loss: 0.0860 - val_accuracy: 0.9751\n",
            "Epoch 17/50\n",
            "12/12 [==============================] - 1s 114ms/step - loss: 0.0320 - accuracy: 0.9913 - val_loss: 0.0853 - val_accuracy: 0.9750\n",
            "Epoch 18/50\n",
            "12/12 [==============================] - 1s 114ms/step - loss: 0.0289 - accuracy: 0.9919 - val_loss: 0.0824 - val_accuracy: 0.9761\n",
            "Epoch 19/50\n",
            "12/12 [==============================] - 1s 115ms/step - loss: 0.0262 - accuracy: 0.9929 - val_loss: 0.0864 - val_accuracy: 0.9764\n",
            "Epoch 20/50\n",
            "12/12 [==============================] - 1s 113ms/step - loss: 0.0234 - accuracy: 0.9936 - val_loss: 0.0823 - val_accuracy: 0.9767\n",
            "Epoch 21/50\n",
            "12/12 [==============================] - 1s 112ms/step - loss: 0.0215 - accuracy: 0.9942 - val_loss: 0.0840 - val_accuracy: 0.9761\n",
            "Epoch 22/50\n",
            "12/12 [==============================] - 2s 155ms/step - loss: 0.0192 - accuracy: 0.9949 - val_loss: 0.0849 - val_accuracy: 0.9759\n",
            "Epoch 23/50\n",
            "12/12 [==============================] - 2s 201ms/step - loss: 0.0175 - accuracy: 0.9953 - val_loss: 0.0894 - val_accuracy: 0.9765\n",
            "Epoch 24/50\n",
            "12/12 [==============================] - 1s 113ms/step - loss: 0.0161 - accuracy: 0.9957 - val_loss: 0.0844 - val_accuracy: 0.9776\n",
            "Epoch 25/50\n",
            "12/12 [==============================] - 1s 114ms/step - loss: 0.0135 - accuracy: 0.9966 - val_loss: 0.0833 - val_accuracy: 0.9780\n",
            "Epoch 26/50\n",
            "12/12 [==============================] - 1s 115ms/step - loss: 0.0120 - accuracy: 0.9970 - val_loss: 0.0845 - val_accuracy: 0.9777\n",
            "Epoch 27/50\n",
            "12/12 [==============================] - 1s 113ms/step - loss: 0.0109 - accuracy: 0.9976 - val_loss: 0.0851 - val_accuracy: 0.9774\n",
            "Epoch 28/50\n",
            "12/12 [==============================] - 1s 114ms/step - loss: 0.0096 - accuracy: 0.9977 - val_loss: 0.0853 - val_accuracy: 0.9777\n",
            "Epoch 29/50\n",
            "12/12 [==============================] - 1s 112ms/step - loss: 0.0088 - accuracy: 0.9982 - val_loss: 0.0890 - val_accuracy: 0.9778\n",
            "Epoch 30/50\n",
            "12/12 [==============================] - 1s 112ms/step - loss: 0.0080 - accuracy: 0.9985 - val_loss: 0.0937 - val_accuracy: 0.9772\n",
            "Epoch 31/50\n",
            "12/12 [==============================] - 2s 180ms/step - loss: 0.0082 - accuracy: 0.9982 - val_loss: 0.0864 - val_accuracy: 0.9774\n",
            "Epoch 32/50\n",
            "12/12 [==============================] - 2s 164ms/step - loss: 0.0073 - accuracy: 0.9985 - val_loss: 0.0881 - val_accuracy: 0.9769\n",
            "Epoch 33/50\n",
            "12/12 [==============================] - 1s 113ms/step - loss: 0.0060 - accuracy: 0.9989 - val_loss: 0.0877 - val_accuracy: 0.9777\n",
            "Epoch 34/50\n",
            "12/12 [==============================] - 1s 113ms/step - loss: 0.0060 - accuracy: 0.9985 - val_loss: 0.0897 - val_accuracy: 0.9774\n",
            "Epoch 35/50\n",
            "12/12 [==============================] - 1s 112ms/step - loss: 0.0060 - accuracy: 0.9987 - val_loss: 0.0902 - val_accuracy: 0.9778\n",
            "Epoch 36/50\n",
            "12/12 [==============================] - 1s 111ms/step - loss: 0.0050 - accuracy: 0.9991 - val_loss: 0.0912 - val_accuracy: 0.9786\n",
            "Epoch 37/50\n",
            "12/12 [==============================] - 1s 114ms/step - loss: 0.0046 - accuracy: 0.9991 - val_loss: 0.0908 - val_accuracy: 0.9784\n",
            "Epoch 38/50\n",
            "12/12 [==============================] - 1s 116ms/step - loss: 0.0048 - accuracy: 0.9992 - val_loss: 0.0913 - val_accuracy: 0.9774\n",
            "Epoch 39/50\n",
            "12/12 [==============================] - 1s 114ms/step - loss: 0.0045 - accuracy: 0.9992 - val_loss: 0.0939 - val_accuracy: 0.9779\n",
            "Epoch 40/50\n",
            "12/12 [==============================] - 2s 201ms/step - loss: 0.0041 - accuracy: 0.9994 - val_loss: 0.0958 - val_accuracy: 0.9768\n",
            "Epoch 41/50\n",
            "12/12 [==============================] - 2s 138ms/step - loss: 0.0040 - accuracy: 0.9992 - val_loss: 0.0962 - val_accuracy: 0.9782\n",
            "Epoch 42/50\n",
            "12/12 [==============================] - 2s 198ms/step - loss: 0.0039 - accuracy: 0.9991 - val_loss: 0.0966 - val_accuracy: 0.9772\n",
            "Epoch 43/50\n",
            "12/12 [==============================] - 2s 140ms/step - loss: 0.0040 - accuracy: 0.9992 - val_loss: 0.1004 - val_accuracy: 0.9776\n",
            "Epoch 44/50\n",
            "12/12 [==============================] - 1s 116ms/step - loss: 0.0037 - accuracy: 0.9994 - val_loss: 0.0965 - val_accuracy: 0.9781\n",
            "Epoch 45/50\n",
            "12/12 [==============================] - 1s 114ms/step - loss: 0.0037 - accuracy: 0.9992 - val_loss: 0.0981 - val_accuracy: 0.9772\n",
            "Epoch 46/50\n",
            "12/12 [==============================] - 1s 113ms/step - loss: 0.0034 - accuracy: 0.9994 - val_loss: 0.0986 - val_accuracy: 0.9780\n",
            "Epoch 47/50\n",
            "12/12 [==============================] - 2s 133ms/step - loss: 0.0029 - accuracy: 0.9995 - val_loss: 0.0990 - val_accuracy: 0.9788\n",
            "Epoch 48/50\n",
            "12/12 [==============================] - 2s 205ms/step - loss: 0.0030 - accuracy: 0.9995 - val_loss: 0.1022 - val_accuracy: 0.9782\n",
            "Epoch 49/50\n",
            "12/12 [==============================] - 1s 114ms/step - loss: 0.0032 - accuracy: 0.9993 - val_loss: 0.1026 - val_accuracy: 0.9770\n",
            "Epoch 50/50\n",
            "12/12 [==============================] - 1s 117ms/step - loss: 0.0025 - accuracy: 0.9996 - val_loss: 0.1004 - val_accuracy: 0.9784\n",
            "\n",
            " Evaluate the new model against the test set:\n",
            "3/3 [==============================] - 0s 32ms/step - loss: 0.0892 - accuracy: 0.9802\n"
          ]
        },
        {
          "output_type": "execute_result",
          "data": {
            "text/plain": [
              "[0.08919654786586761, 0.9801999926567078]"
            ]
          },
          "metadata": {},
          "execution_count": 14
        },
        {
          "output_type": "display_data",
          "data": {
            "text/plain": [
              "<Figure size 640x480 with 1 Axes>"
            ],
            "image/png": "[encoded data removed]"
          },
          "metadata": {}
        }
      ]
    }
  ]
}