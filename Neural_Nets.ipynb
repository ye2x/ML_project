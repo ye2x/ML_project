{
  "nbformat": 4,
  "nbformat_minor": 0,
  "metadata": {
    "colab": {
      "provenance": [],
      "authorship_tag": "ABX9TyPD/iu04QMUggaP1vEw6O1V",
      "include_colab_link": true
    },
    "kernelspec": {
      "name": "python3",
      "display_name": "Python 3"
    },
    "language_info": {
      "name": "python"
    }
  },
  "cells": [
    {
      "cell_type": "markdown",
      "metadata": {
        "id": "view-in-github",
        "colab_type": "text"
      },
      "source": [
        "<a href=\"https://colab.research.google.com/github/ye2x/ML_project/blob/main/Neural_Nets.ipynb\" target=\"_parent\"><img src=\"https://colab.research.google.com/assets/colab-badge.svg\" alt=\"Open In Colab\"/></a>"
      ]
    },
    {
      "cell_type": "code",
      "execution_count": 1,
      "metadata": {
        "colab": {
          "base_uri": "https://localhost:8080/"
        },
        "id": "kqpVmLegMUHX",
        "outputId": "cc42bb82-bdaf-44cb-801c-96ed1156404b"
      },
      "outputs": [
        {
          "output_type": "stream",
          "name": "stdout",
          "text": [
            "Imported modules.\n"
          ]
        }
      ],
      "source": [
        "#@title Import relevant modules\n",
        "import numpy as np\n",
        "import pandas as pd\n",
        "import tensorflow as tf\n",
        "from tensorflow.keras import layers\n",
        "from matplotlib import pyplot as plt\n",
        "import seaborn as sns\n",
        "\n",
        "# The following lines adjust the granularity of reporting. \n",
        "pd.options.display.max_rows = 10\n",
        "pd.options.display.float_format = \"{:.1f}\".format\n",
        "\n",
        "print(\"Imported modules.\")"
      ]
    },
    {
      "cell_type": "code",
      "source": [
        "train_df = pd.read_csv(\"https://download.mlcc.google.com/mledu-datasets/california_housing_train.csv\")\n",
        "train_df = train_df.reindex(np.random.permutation(train_df.index)) # shuffle the examples\n",
        "test_df = pd.read_csv(\"https://download.mlcc.google.com/mledu-datasets/california_housing_test.csv\")"
      ],
      "metadata": {
        "id": "UHXG6lWbMggK"
      },
      "execution_count": 2,
      "outputs": []
    },
    {
      "cell_type": "code",
      "source": [
        "#@title Convert raw values to their Z-scores \n",
        "\n",
        "# Calculate the Z-scores of each column in the training set:\n",
        "train_df_mean = train_df.mean()\n",
        "train_df_std = train_df.std()\n",
        "train_df_norm = (train_df - train_df_mean)/train_df_std\n",
        "\n",
        "# Calculate the Z-scores of each column in the test set.\n",
        "test_df_mean = test_df.mean()\n",
        "test_df_std = test_df.std()\n",
        "test_df_norm = (test_df - test_df_mean)/test_df_std\n",
        "\n",
        "print(\"Normalized the values.\")"
      ],
      "metadata": {
        "colab": {
          "base_uri": "https://localhost:8080/"
        },
        "id": "Zw0nLEzUMk5V",
        "outputId": "e4e59a8c-2051-4f01-e205-523b036f049f"
      },
      "execution_count": 3,
      "outputs": [
        {
          "output_type": "stream",
          "name": "stdout",
          "text": [
            "Normalized the values.\n"
          ]
        }
      ]
    },
    {
      "cell_type": "code",
      "source": [
        "# Create an empty list that will eventually hold all created feature columns.\n",
        "feature_columns = []\n",
        "\n",
        "# We scaled all the columns, including latitude and longitude, into their\n",
        "# Z scores. So, instead of picking a resolution in degrees, we're going\n",
        "# to use resolution_in_Zs.  A resolution_in_Zs of 1 corresponds to \n",
        "# a full standard deviation. \n",
        "resolution_in_Zs = 0.3  # 3/10 of a standard deviation.\n",
        "\n",
        "# Create a bucket feature column for latitude.\n",
        "latitude_as_a_numeric_column = tf.feature_column.numeric_column(\"latitude\")\n",
        "latitude_boundaries = list(np.arange(int(min(train_df_norm['latitude'])), \n",
        "                                     int(max(train_df_norm['latitude'])), \n",
        "                                     resolution_in_Zs))\n",
        "latitude = tf.feature_column.bucketized_column(latitude_as_a_numeric_column, latitude_boundaries)\n",
        "\n",
        "# Create a bucket feature column for longitude.\n",
        "longitude_as_a_numeric_column = tf.feature_column.numeric_column(\"longitude\")\n",
        "longitude_boundaries = list(np.arange(int(min(train_df_norm['longitude'])), \n",
        "                                      int(max(train_df_norm['longitude'])), \n",
        "                                      resolution_in_Zs))\n",
        "longitude = tf.feature_column.bucketized_column(longitude_as_a_numeric_column, \n",
        "                                                longitude_boundaries)\n",
        "\n",
        "# Create a feature cross of latitude and longitude.\n",
        "latitude_x_longitude = tf.feature_column.crossed_column([latitude, longitude], hash_bucket_size=100)\n",
        "crossed_feature = tf.feature_column.indicator_column(latitude_x_longitude)\n",
        "feature_columns.append(crossed_feature)  \n",
        "\n",
        "# Represent median_income as a floating-point value.\n",
        "median_income = tf.feature_column.numeric_column(\"median_income\")\n",
        "feature_columns.append(median_income)\n",
        "\n",
        "# Represent population as a floating-point value.\n",
        "population = tf.feature_column.numeric_column(\"population\")\n",
        "feature_columns.append(population)\n",
        "\n",
        "# Convert the list of feature columns into a layer that will later be fed into\n",
        "# the model. \n",
        "my_feature_layer = tf.keras.layers.DenseFeatures(feature_columns)"
      ],
      "metadata": {
        "colab": {
          "base_uri": "https://localhost:8080/"
        },
        "id": "LTz0ziyGMy-j",
        "outputId": "a8697d46-eaf5-48c6-98e1-53fc06a1fa3d"
      },
      "execution_count": 4,
      "outputs": [
        {
          "output_type": "stream",
          "name": "stderr",
          "text": [
            "WARNING:tensorflow:From <ipython-input-4-79fa60e11279>:11: numeric_column (from tensorflow.python.feature_column.feature_column_v2) is deprecated and will be removed in a future version.\n",
            "Instructions for updating:\n",
            "Use Keras preprocessing layers instead, either directly or via the `tf.keras.utils.FeatureSpace` utility. Each of `tf.feature_column.*` has a functional equivalent in `tf.keras.layers` for feature preprocessing when training a Keras model.\n",
            "WARNING:tensorflow:From <ipython-input-4-79fa60e11279>:15: bucketized_column (from tensorflow.python.feature_column.feature_column_v2) is deprecated and will be removed in a future version.\n",
            "Instructions for updating:\n",
            "Use Keras preprocessing layers instead, either directly or via the `tf.keras.utils.FeatureSpace` utility. Each of `tf.feature_column.*` has a functional equivalent in `tf.keras.layers` for feature preprocessing when training a Keras model.\n",
            "WARNING:tensorflow:From <ipython-input-4-79fa60e11279>:26: crossed_column (from tensorflow.python.feature_column.feature_column_v2) is deprecated and will be removed in a future version.\n",
            "Instructions for updating:\n",
            "Use `tf.keras.layers.experimental.preprocessing.HashedCrossing` instead for feature crossing when preprocessing data to train a Keras model.\n",
            "WARNING:tensorflow:From <ipython-input-4-79fa60e11279>:27: indicator_column (from tensorflow.python.feature_column.feature_column_v2) is deprecated and will be removed in a future version.\n",
            "Instructions for updating:\n",
            "Use Keras preprocessing layers instead, either directly or via the `tf.keras.utils.FeatureSpace` utility. Each of `tf.feature_column.*` has a functional equivalent in `tf.keras.layers` for feature preprocessing when training a Keras model.\n"
          ]
        }
      ]
    },
    {
      "cell_type": "code",
      "source": [
        "#@title Define the plotting function.\n",
        "\n",
        "def plot_the_loss_curve(epochs, mse):\n",
        "  \"\"\"Plot a curve of loss vs. epoch.\"\"\"\n",
        "\n",
        "  plt.figure()\n",
        "  plt.xlabel(\"Epoch\")\n",
        "  plt.ylabel(\"Mean Squared Error\")\n",
        "\n",
        "  plt.plot(epochs, mse, label=\"Loss\")\n",
        "  plt.legend()\n",
        "  plt.ylim([mse.min()*0.95, mse.max() * 1.03])\n",
        "  plt.show()  \n",
        "\n",
        "print(\"Defined the plot_the_loss_curve function.\")"
      ],
      "metadata": {
        "colab": {
          "base_uri": "https://localhost:8080/"
        },
        "id": "PjynoZJeNnqL",
        "outputId": "0c8fecc2-534e-4c43-e41e-9d0f7201b537"
      },
      "execution_count": 5,
      "outputs": [
        {
          "output_type": "stream",
          "name": "stdout",
          "text": [
            "Defined the plot_the_loss_curve function.\n"
          ]
        }
      ]
    },
    {
      "cell_type": "code",
      "source": [
        "#@title Define functions to create and train a linear regression model\n",
        "def create_model(my_learning_rate, feature_layer):\n",
        "  \"\"\"Create and compile a simple linear regression model.\"\"\"\n",
        "  # Most simple tf.keras models are sequential.\n",
        "  model = tf.keras.models.Sequential()\n",
        "\n",
        "  # Add the layer containing the feature columns to the model.\n",
        "  model.add(feature_layer)\n",
        "\n",
        "  # Add one linear layer to the model to yield a simple linear regressor.\n",
        "  model.add(tf.keras.layers.Dense(units=1, input_shape=(1,)))\n",
        "\n",
        "  # Construct the layers into a model that TensorFlow can execute.\n",
        "  model.compile(optimizer=tf.keras.optimizers.experimental.RMSprop(learning_rate=my_learning_rate),\n",
        "                loss=\"mean_squared_error\",\n",
        "                metrics=[tf.keras.metrics.MeanSquaredError()])\n",
        "\n",
        "  return model           \n",
        "\n",
        "\n",
        "def train_model(model, dataset, epochs, batch_size, label_name):\n",
        "  \"\"\"Feed a dataset into the model in order to train it.\"\"\"\n",
        "\n",
        "  # Split the dataset into features and label.\n",
        "  features = {name:np.array(value) for name, value in dataset.items()}\n",
        "  label = np.array(features.pop(label_name))\n",
        "  history = model.fit(x=features, y=label, batch_size=batch_size,\n",
        "                      epochs=epochs, shuffle=True)\n",
        "\n",
        "  # Get details that will be useful for plotting the loss curve.\n",
        "  epochs = history.epoch\n",
        "  hist = pd.DataFrame(history.history)\n",
        "  rmse = hist[\"mean_squared_error\"]\n",
        "\n",
        "  return epochs, rmse   \n",
        "\n",
        "print(\"Defined the create_model and train_model functions.\")"
      ],
      "metadata": {
        "colab": {
          "base_uri": "https://localhost:8080/"
        },
        "id": "ObHasVt2Nv6a",
        "outputId": "a60e630b-a5fc-4acc-d098-22f15c8c4649"
      },
      "execution_count": 6,
      "outputs": [
        {
          "output_type": "stream",
          "name": "stdout",
          "text": [
            "Defined the create_model and train_model functions.\n"
          ]
        }
      ]
    },
    {
      "cell_type": "code",
      "source": [
        "# The following variables are the hyperparameters.\n",
        "learning_rate = 0.01\n",
        "epochs = 15\n",
        "batch_size = 1000\n",
        "label_name = \"median_house_value\"\n",
        "\n",
        "# Establish the model's topography.\n",
        "my_model = create_model(learning_rate, my_feature_layer)\n",
        "\n",
        "# Train the model on the normalized training set.\n",
        "epochs, mse = train_model(my_model, train_df_norm, epochs, batch_size, label_name)\n",
        "plot_the_loss_curve(epochs, mse)\n",
        "\n",
        "test_features = {name:np.array(value) for name, value in test_df_norm.items()}\n",
        "test_label = np.array(test_features.pop(label_name)) # isolate the label\n",
        "print(\"\\n Evaluate the linear regression model against the test set:\")\n",
        "my_model.evaluate(x = test_features, y = test_label, batch_size=batch_size)"
      ],
      "metadata": {
        "colab": {
          "base_uri": "https://localhost:8080/",
          "height": 1000
        },
        "id": "2JgXi_-zN-JX",
        "outputId": "37774b23-ea82-4f71-87b0-235ff234de83"
      },
      "execution_count": 7,
      "outputs": [
        {
          "output_type": "stream",
          "name": "stdout",
          "text": [
            "Epoch 1/15\n"
          ]
        },
        {
          "output_type": "stream",
          "name": "stderr",
          "text": [
            "WARNING:tensorflow:Layers in a Sequential model should only have a single input tensor. Received: inputs={'longitude': <tf.Tensor 'IteratorGetNext:3' shape=(1000,) dtype=float32>, 'latitude': <tf.Tensor 'IteratorGetNext:2' shape=(1000,) dtype=float32>, 'housing_median_age': <tf.Tensor 'IteratorGetNext:1' shape=(1000,) dtype=float32>, 'total_rooms': <tf.Tensor 'IteratorGetNext:7' shape=(1000,) dtype=float32>, 'total_bedrooms': <tf.Tensor 'IteratorGetNext:6' shape=(1000,) dtype=float32>, 'population': <tf.Tensor 'IteratorGetNext:5' shape=(1000,) dtype=float32>, 'households': <tf.Tensor 'IteratorGetNext:0' shape=(1000,) dtype=float32>, 'median_income': <tf.Tensor 'IteratorGetNext:4' shape=(1000,) dtype=float32>}. Consider rewriting this model with the Functional API.\n",
            "WARNING:tensorflow:Layers in a Sequential model should only have a single input tensor. Received: inputs={'longitude': <tf.Tensor 'IteratorGetNext:3' shape=(1000,) dtype=float32>, 'latitude': <tf.Tensor 'IteratorGetNext:2' shape=(1000,) dtype=float32>, 'housing_median_age': <tf.Tensor 'IteratorGetNext:1' shape=(1000,) dtype=float32>, 'total_rooms': <tf.Tensor 'IteratorGetNext:7' shape=(1000,) dtype=float32>, 'total_bedrooms': <tf.Tensor 'IteratorGetNext:6' shape=(1000,) dtype=float32>, 'population': <tf.Tensor 'IteratorGetNext:5' shape=(1000,) dtype=float32>, 'households': <tf.Tensor 'IteratorGetNext:0' shape=(1000,) dtype=float32>, 'median_income': <tf.Tensor 'IteratorGetNext:4' shape=(1000,) dtype=float32>}. Consider rewriting this model with the Functional API.\n"
          ]
        },
        {
          "output_type": "stream",
          "name": "stdout",
          "text": [
            "17/17 [==============================] - 1s 4ms/step - loss: 0.9595 - mean_squared_error: 0.9595\n",
            "Epoch 2/15\n",
            "17/17 [==============================] - 0s 4ms/step - loss: 0.6512 - mean_squared_error: 0.6512\n",
            "Epoch 3/15\n",
            "17/17 [==============================] - 0s 4ms/step - loss: 0.4924 - mean_squared_error: 0.4924\n",
            "Epoch 4/15\n",
            "17/17 [==============================] - 0s 4ms/step - loss: 0.4083 - mean_squared_error: 0.4083\n",
            "Epoch 5/15\n",
            "17/17 [==============================] - 0s 4ms/step - loss: 0.3732 - mean_squared_error: 0.3732\n",
            "Epoch 6/15\n",
            "17/17 [==============================] - 0s 3ms/step - loss: 0.3635 - mean_squared_error: 0.3635\n",
            "Epoch 7/15\n",
            "17/17 [==============================] - 0s 3ms/step - loss: 0.3613 - mean_squared_error: 0.3613\n",
            "Epoch 8/15\n",
            "17/17 [==============================] - 0s 3ms/step - loss: 0.3608 - mean_squared_error: 0.3608\n",
            "Epoch 9/15\n",
            "17/17 [==============================] - 0s 3ms/step - loss: 0.3602 - mean_squared_error: 0.3602\n",
            "Epoch 10/15\n",
            "17/17 [==============================] - 0s 3ms/step - loss: 0.3601 - mean_squared_error: 0.3601\n",
            "Epoch 11/15\n",
            "17/17 [==============================] - 0s 3ms/step - loss: 0.3600 - mean_squared_error: 0.3600\n",
            "Epoch 12/15\n",
            "17/17 [==============================] - 0s 4ms/step - loss: 0.3602 - mean_squared_error: 0.3602\n",
            "Epoch 13/15\n",
            "17/17 [==============================] - 0s 3ms/step - loss: 0.3599 - mean_squared_error: 0.3599\n",
            "Epoch 14/15\n",
            "17/17 [==============================] - 0s 3ms/step - loss: 0.3598 - mean_squared_error: 0.3598\n",
            "Epoch 15/15\n",
            "17/17 [==============================] - 0s 6ms/step - loss: 0.3600 - mean_squared_error: 0.3600\n"
          ]
        },
        {
          "output_type": "display_data",
          "data": {
            "text/plain": [
              "<Figure size 640x480 with 1 Axes>"
            ],
            "image/png": "[encoded data removed]"
          },
          "metadata": {}
        },
        {
          "output_type": "stream",
          "name": "stdout",
          "text": [
            "\n",
            " Evaluate the linear regression model against the test set:\n"
          ]
        },
        {
          "output_type": "stream",
          "name": "stderr",
          "text": [
            "WARNING:tensorflow:Layers in a Sequential model should only have a single input tensor. Received: inputs={'longitude': <tf.Tensor 'IteratorGetNext:3' shape=(1000,) dtype=float32>, 'latitude': <tf.Tensor 'IteratorGetNext:2' shape=(1000,) dtype=float32>, 'housing_median_age': <tf.Tensor 'IteratorGetNext:1' shape=(1000,) dtype=float32>, 'total_rooms': <tf.Tensor 'IteratorGetNext:7' shape=(1000,) dtype=float32>, 'total_bedrooms': <tf.Tensor 'IteratorGetNext:6' shape=(1000,) dtype=float32>, 'population': <tf.Tensor 'IteratorGetNext:5' shape=(1000,) dtype=float32>, 'households': <tf.Tensor 'IteratorGetNext:0' shape=(1000,) dtype=float32>, 'median_income': <tf.Tensor 'IteratorGetNext:4' shape=(1000,) dtype=float32>}. Consider rewriting this model with the Functional API.\n"
          ]
        },
        {
          "output_type": "stream",
          "name": "stdout",
          "text": [
            "3/3 [==============================] - 1s 9ms/step - loss: 0.3948 - mean_squared_error: 0.3948\n"
          ]
        },
        {
          "output_type": "execute_result",
          "data": {
            "text/plain": [
              "[0.3947980999946594, 0.3947980999946594]"
            ]
          },
          "metadata": {},
          "execution_count": 7
        }
      ]
    },
    {
      "cell_type": "code",
      "source": [
        "def create_model(my_learning_rate, my_feature_layer):\n",
        "  \"\"\"Create and compile a simple linear regression model.\"\"\"\n",
        "  # Most simple tf.keras models are sequential.\n",
        "  model = tf.keras.models.Sequential()\n",
        "\n",
        "  # Add the layer containing the feature columns to the model.\n",
        "  model.add(my_feature_layer)\n",
        "\n",
        "  # Describe the topography of the model by calling the tf.keras.layers.Dense\n",
        "  # method once for each layer. We've specified the following arguments:\n",
        "  #   * units specifies the number of nodes in this layer.\n",
        "  #   * activation specifies the activation function (Rectified Linear Unit).\n",
        "  #   * name is just a string that can be useful when debugging.\n",
        "\n",
        "  # Define the first hidden layer with 20 nodes.   \n",
        "  model.add(tf.keras.layers.Dense(units=20, \n",
        "                                  activation='relu', \n",
        "                                  name='Hidden1'))\n",
        "  \n",
        "  # Define the second hidden layer with 12 nodes. \n",
        "  model.add(tf.keras.layers.Dense(units=12, \n",
        "                                  activation='relu', \n",
        "                                  name='Hidden2'))\n",
        "  \n",
        "  # Define the output layer.\n",
        "  model.add(tf.keras.layers.Dense(units=1,  \n",
        "                                  name='Output'))                              \n",
        "  \n",
        "  model.compile(optimizer=tf.keras.optimizers.Adam(learning_rate=my_learning_rate),\n",
        "                loss=\"mean_squared_error\",\n",
        "                metrics=[tf.keras.metrics.MeanSquaredError()])\n",
        "\n",
        "  return model"
      ],
      "metadata": {
        "id": "2h4PkxWbOPTl"
      },
      "execution_count": 8,
      "outputs": []
    },
    {
      "cell_type": "code",
      "source": [
        "def train_model(model, dataset, epochs, label_name,\n",
        "                batch_size=None):\n",
        "  \"\"\"Train the model by feeding it data.\"\"\"\n",
        "\n",
        "  # Split the dataset into features and label.\n",
        "  features = {name:np.array(value) for name, value in dataset.items()}\n",
        "  label = np.array(features.pop(label_name))\n",
        "  history = model.fit(x=features, y=label, batch_size=batch_size,\n",
        "                      epochs=epochs, shuffle=True) \n",
        "\n",
        "  # The list of epochs is stored separately from the rest of history.\n",
        "  epochs = history.epoch\n",
        "  \n",
        "  # To track the progression of training, gather a snapshot\n",
        "  # of the model's mean squared error at each epoch. \n",
        "  hist = pd.DataFrame(history.history)\n",
        "  mse = hist[\"mean_squared_error\"]\n",
        "\n",
        "  return epochs, mse"
      ],
      "metadata": {
        "id": "t9BlWSCgOr45"
      },
      "execution_count": 9,
      "outputs": []
    },
    {
      "cell_type": "code",
      "source": [
        "# The following variables are the hyperparameters.\n",
        "learning_rate = 0.01\n",
        "epochs = 20\n",
        "batch_size = 1000\n",
        "\n",
        "# Specify the label\n",
        "label_name = \"median_house_value\"\n",
        "\n",
        "# Establish the model's topography.\n",
        "my_model = create_model(learning_rate, my_feature_layer)\n",
        "\n",
        "# Train the model on the normalized training set. We're passing the entire\n",
        "# normalized training set, but the model will only use the features\n",
        "# defined by the feature_layer.\n",
        "epochs, mse = train_model(my_model, train_df_norm, epochs, \n",
        "                          label_name, batch_size)\n",
        "plot_the_loss_curve(epochs, mse)\n",
        "\n",
        "# After building a model against the training set, test that model\n",
        "# against the test set.\n",
        "test_features = {name:np.array(value) for name, value in test_df_norm.items()}\n",
        "test_label = np.array(test_features.pop(label_name)) # isolate the label\n",
        "print(\"\\n Evaluate the new model against the test set:\")\n",
        "my_model.evaluate(x = test_features, y = test_label, batch_size=batch_size)"
      ],
      "metadata": {
        "colab": {
          "base_uri": "https://localhost:8080/",
          "height": 1000
        },
        "id": "9GmECVayOzi4",
        "outputId": "a63d17fe-1e57-4fbc-b9d2-ed4d86dbca62"
      },
      "execution_count": 12,
      "outputs": [
        {
          "output_type": "stream",
          "name": "stdout",
          "text": [
            "Epoch 1/20\n"
          ]
        },
        {
          "output_type": "stream",
          "name": "stderr",
          "text": [
            "WARNING:tensorflow:Layers in a Sequential model should only have a single input tensor. Received: inputs={'longitude': <tf.Tensor 'IteratorGetNext:3' shape=(1000,) dtype=float32>, 'latitude': <tf.Tensor 'IteratorGetNext:2' shape=(1000,) dtype=float32>, 'housing_median_age': <tf.Tensor 'IteratorGetNext:1' shape=(1000,) dtype=float32>, 'total_rooms': <tf.Tensor 'IteratorGetNext:7' shape=(1000,) dtype=float32>, 'total_bedrooms': <tf.Tensor 'IteratorGetNext:6' shape=(1000,) dtype=float32>, 'population': <tf.Tensor 'IteratorGetNext:5' shape=(1000,) dtype=float32>, 'households': <tf.Tensor 'IteratorGetNext:0' shape=(1000,) dtype=float32>, 'median_income': <tf.Tensor 'IteratorGetNext:4' shape=(1000,) dtype=float32>}. Consider rewriting this model with the Functional API.\n",
            "WARNING:tensorflow:Layers in a Sequential model should only have a single input tensor. Received: inputs={'longitude': <tf.Tensor 'IteratorGetNext:3' shape=(1000,) dtype=float32>, 'latitude': <tf.Tensor 'IteratorGetNext:2' shape=(1000,) dtype=float32>, 'housing_median_age': <tf.Tensor 'IteratorGetNext:1' shape=(1000,) dtype=float32>, 'total_rooms': <tf.Tensor 'IteratorGetNext:7' shape=(1000,) dtype=float32>, 'total_bedrooms': <tf.Tensor 'IteratorGetNext:6' shape=(1000,) dtype=float32>, 'population': <tf.Tensor 'IteratorGetNext:5' shape=(1000,) dtype=float32>, 'households': <tf.Tensor 'IteratorGetNext:0' shape=(1000,) dtype=float32>, 'median_income': <tf.Tensor 'IteratorGetNext:4' shape=(1000,) dtype=float32>}. Consider rewriting this model with the Functional API.\n"
          ]
        },
        {
          "output_type": "stream",
          "name": "stdout",
          "text": [
            "17/17 [==============================] - 1s 8ms/step - loss: 0.6237 - mean_squared_error: 0.6237\n",
            "Epoch 2/20\n",
            "17/17 [==============================] - 0s 8ms/step - loss: 0.3681 - mean_squared_error: 0.3681\n",
            "Epoch 3/20\n",
            "17/17 [==============================] - 0s 7ms/step - loss: 0.3455 - mean_squared_error: 0.3455\n",
            "Epoch 4/20\n",
            "17/17 [==============================] - 0s 6ms/step - loss: 0.3403 - mean_squared_error: 0.3403\n",
            "Epoch 5/20\n",
            "17/17 [==============================] - 0s 6ms/step - loss: 0.3373 - mean_squared_error: 0.3373\n",
            "Epoch 6/20\n",
            "17/17 [==============================] - 0s 7ms/step - loss: 0.3363 - mean_squared_error: 0.3363\n",
            "Epoch 7/20\n",
            "17/17 [==============================] - 0s 7ms/step - loss: 0.3349 - mean_squared_error: 0.3349\n",
            "Epoch 8/20\n",
            "17/17 [==============================] - 0s 7ms/step - loss: 0.3329 - mean_squared_error: 0.3329\n",
            "Epoch 9/20\n",
            "17/17 [==============================] - 0s 7ms/step - loss: 0.3310 - mean_squared_error: 0.3310\n",
            "Epoch 10/20\n",
            "17/17 [==============================] - 0s 7ms/step - loss: 0.3311 - mean_squared_error: 0.3311\n",
            "Epoch 11/20\n",
            "17/17 [==============================] - 0s 6ms/step - loss: 0.3300 - mean_squared_error: 0.3300\n",
            "Epoch 12/20\n",
            "17/17 [==============================] - 0s 6ms/step - loss: 0.3289 - mean_squared_error: 0.3289\n",
            "Epoch 13/20\n",
            "17/17 [==============================] - 0s 7ms/step - loss: 0.3287 - mean_squared_error: 0.3287\n",
            "Epoch 14/20\n",
            "17/17 [==============================] - 0s 6ms/step - loss: 0.3284 - mean_squared_error: 0.3284\n",
            "Epoch 15/20\n",
            "17/17 [==============================] - 0s 6ms/step - loss: 0.3282 - mean_squared_error: 0.3282\n",
            "Epoch 16/20\n",
            "17/17 [==============================] - 0s 7ms/step - loss: 0.3284 - mean_squared_error: 0.3284\n",
            "Epoch 17/20\n",
            "17/17 [==============================] - 0s 7ms/step - loss: 0.3289 - mean_squared_error: 0.3289\n",
            "Epoch 18/20\n",
            "17/17 [==============================] - 0s 7ms/step - loss: 0.3275 - mean_squared_error: 0.3275\n",
            "Epoch 19/20\n",
            "17/17 [==============================] - 0s 7ms/step - loss: 0.3256 - mean_squared_error: 0.3256\n",
            "Epoch 20/20\n",
            "17/17 [==============================] - 0s 6ms/step - loss: 0.3247 - mean_squared_error: 0.3247\n"
          ]
        },
        {
          "output_type": "display_data",
          "data": {
            "text/plain": [
              "<Figure size 640x480 with 1 Axes>"
            ],
            "image/png": "[encoded data removed]"
          },
          "metadata": {}
        },
        {
          "output_type": "stream",
          "name": "stderr",
          "text": [
            "WARNING:tensorflow:Layers in a Sequential model should only have a single input tensor. Received: inputs={'longitude': <tf.Tensor 'IteratorGetNext:3' shape=(1000,) dtype=float32>, 'latitude': <tf.Tensor 'IteratorGetNext:2' shape=(1000,) dtype=float32>, 'housing_median_age': <tf.Tensor 'IteratorGetNext:1' shape=(1000,) dtype=float32>, 'total_rooms': <tf.Tensor 'IteratorGetNext:7' shape=(1000,) dtype=float32>, 'total_bedrooms': <tf.Tensor 'IteratorGetNext:6' shape=(1000,) dtype=float32>, 'population': <tf.Tensor 'IteratorGetNext:5' shape=(1000,) dtype=float32>, 'households': <tf.Tensor 'IteratorGetNext:0' shape=(1000,) dtype=float32>, 'median_income': <tf.Tensor 'IteratorGetNext:4' shape=(1000,) dtype=float32>}. Consider rewriting this model with the Functional API.\n"
          ]
        },
        {
          "output_type": "stream",
          "name": "stdout",
          "text": [
            "\n",
            " Evaluate the new model against the test set:\n",
            "3/3 [==============================] - 0s 7ms/step - loss: 0.3647 - mean_squared_error: 0.3647\n"
          ]
        },
        {
          "output_type": "execute_result",
          "data": {
            "text/plain": [
              "[0.36465463042259216, 0.36465463042259216]"
            ]
          },
          "metadata": {},
          "execution_count": 12
        }
      ]
    },
    {
      "cell_type": "code",
      "source": [
        "#@title Double-click for a possible solution\n",
        "\n",
        "# The following \"solution\" uses L2 regularization to bring training loss\n",
        "# and test loss closer to each other. Many, many other solutions are possible.\n",
        "\n",
        "\n",
        "def create_model(my_learning_rate, my_feature_layer):\n",
        "  \"\"\"Create and compile a simple linear regression model.\"\"\"\n",
        "\n",
        "  # Discard any pre-existing version of the model.\n",
        "  model = None\n",
        "\n",
        "  # Most simple tf.keras models are sequential.\n",
        "  model = tf.keras.models.Sequential()\n",
        "\n",
        "  # Add the layer containing the feature columns to the model.\n",
        "  model.add(my_feature_layer)\n",
        "\n",
        "  # Describe the topography of the model. \n",
        "\n",
        "  # Implement L2 regularization in the first hidden layer.\n",
        "  model.add(tf.keras.layers.Dense(units=20, \n",
        "                                  activation='relu',\n",
        "                                  kernel_regularizer=tf.keras.regularizers.l2(0.04),\n",
        "                                  name='Hidden1'))\n",
        "  \n",
        "  # Implement L2 regularization in the second hidden layer.\n",
        "  model.add(tf.keras.layers.Dense(units=12, \n",
        "                                  activation='relu', \n",
        "                                  kernel_regularizer=tf.keras.regularizers.l2(0.04),\n",
        "                                  name='Hidden2'))\n",
        "\n",
        "  # Define the output layer.\n",
        "  model.add(tf.keras.layers.Dense(units=1,  \n",
        "                                  name='Output'))                              \n",
        "  \n",
        "  model.compile(optimizer=tf.keras.optimizers.Adam(learning_rate=my_learning_rate),\n",
        "                loss=\"mean_squared_error\",\n",
        "                metrics=[tf.keras.metrics.MeanSquaredError()])\n",
        "\n",
        "  return model     \n",
        "\n",
        "# Call the new create_model function and the other (unchanged) functions.\n",
        "\n",
        "# The following variables are the hyperparameters.\n",
        "learning_rate = 0.007\n",
        "epochs = 140\n",
        "batch_size = 1000\n",
        "\n",
        "label_name = \"median_house_value\"\n",
        "\n",
        "# Establish the model's topography.\n",
        "my_model = create_model(learning_rate, my_feature_layer)\n",
        "\n",
        "# Train the model on the normalized training set.\n",
        "epochs, mse = train_model(my_model, train_df_norm, epochs, \n",
        "                          label_name, batch_size)\n",
        "plot_the_loss_curve(epochs, mse)\n",
        "\n",
        "test_features = {name:np.array(value) for name, value in test_df_norm.items()}\n",
        "test_label = np.array(test_features.pop(label_name)) # isolate the label\n",
        "print(\"\\n Evaluate the new model against the test set:\")\n",
        "my_model.evaluate(x = test_features, y = test_label, batch_size=batch_size) "
      ],
      "metadata": {
        "colab": {
          "base_uri": "https://localhost:8080/",
          "height": 1000
        },
        "id": "ZEnZVXCJQee9",
        "outputId": "c0b36e1e-b150-47c7-d973-2338a519ece5"
      },
      "execution_count": 13,
      "outputs": [
        {
          "output_type": "stream",
          "name": "stdout",
          "text": [
            "Epoch 1/140\n"
          ]
        },
        {
          "output_type": "stream",
          "name": "stderr",
          "text": [
            "WARNING:tensorflow:Layers in a Sequential model should only have a single input tensor. Received: inputs={'longitude': <tf.Tensor 'IteratorGetNext:3' shape=(1000,) dtype=float32>, 'latitude': <tf.Tensor 'IteratorGetNext:2' shape=(1000,) dtype=float32>, 'housing_median_age': <tf.Tensor 'IteratorGetNext:1' shape=(1000,) dtype=float32>, 'total_rooms': <tf.Tensor 'IteratorGetNext:7' shape=(1000,) dtype=float32>, 'total_bedrooms': <tf.Tensor 'IteratorGetNext:6' shape=(1000,) dtype=float32>, 'population': <tf.Tensor 'IteratorGetNext:5' shape=(1000,) dtype=float32>, 'households': <tf.Tensor 'IteratorGetNext:0' shape=(1000,) dtype=float32>, 'median_income': <tf.Tensor 'IteratorGetNext:4' shape=(1000,) dtype=float32>}. Consider rewriting this model with the Functional API.\n",
            "WARNING:tensorflow:Layers in a Sequential model should only have a single input tensor. Received: inputs={'longitude': <tf.Tensor 'IteratorGetNext:3' shape=(1000,) dtype=float32>, 'latitude': <tf.Tensor 'IteratorGetNext:2' shape=(1000,) dtype=float32>, 'housing_median_age': <tf.Tensor 'IteratorGetNext:1' shape=(1000,) dtype=float32>, 'total_rooms': <tf.Tensor 'IteratorGetNext:7' shape=(1000,) dtype=float32>, 'total_bedrooms': <tf.Tensor 'IteratorGetNext:6' shape=(1000,) dtype=float32>, 'population': <tf.Tensor 'IteratorGetNext:5' shape=(1000,) dtype=float32>, 'households': <tf.Tensor 'IteratorGetNext:0' shape=(1000,) dtype=float32>, 'median_income': <tf.Tensor 'IteratorGetNext:4' shape=(1000,) dtype=float32>}. Consider rewriting this model with the Functional API.\n"
          ]
        },
        {
          "output_type": "stream",
          "name": "stdout",
          "text": [
            "17/17 [==============================] - 1s 5ms/step - loss: 1.7253 - mean_squared_error: 0.6447\n",
            "Epoch 2/140\n",
            "17/17 [==============================] - 0s 4ms/step - loss: 0.7413 - mean_squared_error: 0.4280\n",
            "Epoch 3/140\n",
            "17/17 [==============================] - 0s 4ms/step - loss: 0.5411 - mean_squared_error: 0.3899\n",
            "Epoch 4/140\n",
            "17/17 [==============================] - 0s 5ms/step - loss: 0.4772 - mean_squared_error: 0.3764\n",
            "Epoch 5/140\n",
            "17/17 [==============================] - 0s 4ms/step - loss: 0.4535 - mean_squared_error: 0.3731\n",
            "Epoch 6/140\n",
            "17/17 [==============================] - 0s 5ms/step - loss: 0.4419 - mean_squared_error: 0.3698\n",
            "Epoch 7/140\n",
            "17/17 [==============================] - 0s 4ms/step - loss: 0.4355 - mean_squared_error: 0.3684\n",
            "Epoch 8/140\n",
            "17/17 [==============================] - 0s 4ms/step - loss: 0.4308 - mean_squared_error: 0.3671\n",
            "Epoch 9/140\n",
            "17/17 [==============================] - 0s 5ms/step - loss: 0.4282 - mean_squared_error: 0.3668\n",
            "Epoch 10/140\n",
            "17/17 [==============================] - 0s 4ms/step - loss: 0.4255 - mean_squared_error: 0.3659\n",
            "Epoch 11/140\n",
            "17/17 [==============================] - 0s 5ms/step - loss: 0.4243 - mean_squared_error: 0.3669\n",
            "Epoch 12/140\n",
            "17/17 [==============================] - 0s 4ms/step - loss: 0.4197 - mean_squared_error: 0.3628\n",
            "Epoch 13/140\n",
            "17/17 [==============================] - 0s 4ms/step - loss: 0.4220 - mean_squared_error: 0.3663\n",
            "Epoch 14/140\n",
            "17/17 [==============================] - 0s 4ms/step - loss: 0.4177 - mean_squared_error: 0.3625\n",
            "Epoch 15/140\n",
            "17/17 [==============================] - 0s 4ms/step - loss: 0.4163 - mean_squared_error: 0.3624\n",
            "Epoch 16/140\n",
            "17/17 [==============================] - 0s 5ms/step - loss: 0.4159 - mean_squared_error: 0.3619\n",
            "Epoch 17/140\n",
            "17/17 [==============================] - 0s 4ms/step - loss: 0.4172 - mean_squared_error: 0.3644\n",
            "Epoch 18/140\n",
            "17/17 [==============================] - 0s 5ms/step - loss: 0.4129 - mean_squared_error: 0.3609\n",
            "Epoch 19/140\n",
            "17/17 [==============================] - 0s 5ms/step - loss: 0.4121 - mean_squared_error: 0.3602\n",
            "Epoch 20/140\n",
            "17/17 [==============================] - 0s 4ms/step - loss: 0.4119 - mean_squared_error: 0.3608\n",
            "Epoch 21/140\n",
            "17/17 [==============================] - 0s 6ms/step - loss: 0.4108 - mean_squared_error: 0.3604\n",
            "Epoch 22/140\n",
            "17/17 [==============================] - 0s 4ms/step - loss: 0.4084 - mean_squared_error: 0.3578\n",
            "Epoch 23/140\n",
            "17/17 [==============================] - 0s 5ms/step - loss: 0.4070 - mean_squared_error: 0.3580\n",
            "Epoch 24/140\n",
            "17/17 [==============================] - 0s 5ms/step - loss: 0.4072 - mean_squared_error: 0.3573\n",
            "Epoch 25/140\n",
            "17/17 [==============================] - 0s 4ms/step - loss: 0.4050 - mean_squared_error: 0.3552\n",
            "Epoch 26/140\n",
            "17/17 [==============================] - 0s 5ms/step - loss: 0.4039 - mean_squared_error: 0.3562\n",
            "Epoch 27/140\n",
            "17/17 [==============================] - 0s 4ms/step - loss: 0.4028 - mean_squared_error: 0.3551\n",
            "Epoch 28/140\n",
            "17/17 [==============================] - 0s 5ms/step - loss: 0.4019 - mean_squared_error: 0.3545\n",
            "Epoch 29/140\n",
            "17/17 [==============================] - 0s 5ms/step - loss: 0.4012 - mean_squared_error: 0.3531\n",
            "Epoch 30/140\n",
            "17/17 [==============================] - 0s 5ms/step - loss: 0.4019 - mean_squared_error: 0.3547\n",
            "Epoch 31/140\n",
            "17/17 [==============================] - 0s 4ms/step - loss: 0.4009 - mean_squared_error: 0.3541\n",
            "Epoch 32/140\n",
            "17/17 [==============================] - 0s 4ms/step - loss: 0.4028 - mean_squared_error: 0.3560\n",
            "Epoch 33/140\n",
            "17/17 [==============================] - 0s 5ms/step - loss: 0.3990 - mean_squared_error: 0.3534\n",
            "Epoch 34/140\n",
            "17/17 [==============================] - 0s 5ms/step - loss: 0.3983 - mean_squared_error: 0.3530\n",
            "Epoch 35/140\n",
            "17/17 [==============================] - 0s 5ms/step - loss: 0.3990 - mean_squared_error: 0.3539\n",
            "Epoch 36/140\n",
            "17/17 [==============================] - 0s 4ms/step - loss: 0.3973 - mean_squared_error: 0.3514\n",
            "Epoch 37/140\n",
            "17/17 [==============================] - 0s 5ms/step - loss: 0.3966 - mean_squared_error: 0.3519\n",
            "Epoch 38/140\n",
            "17/17 [==============================] - 0s 4ms/step - loss: 0.3967 - mean_squared_error: 0.3527\n",
            "Epoch 39/140\n",
            "17/17 [==============================] - 0s 5ms/step - loss: 0.3965 - mean_squared_error: 0.3524\n",
            "Epoch 40/140\n",
            "17/17 [==============================] - 0s 4ms/step - loss: 0.3949 - mean_squared_error: 0.3508\n",
            "Epoch 41/140\n",
            "17/17 [==============================] - 0s 5ms/step - loss: 0.3942 - mean_squared_error: 0.3508\n",
            "Epoch 42/140\n",
            "17/17 [==============================] - 0s 5ms/step - loss: 0.3952 - mean_squared_error: 0.3521\n",
            "Epoch 43/140\n",
            "17/17 [==============================] - 0s 4ms/step - loss: 0.3932 - mean_squared_error: 0.3491\n",
            "Epoch 44/140\n",
            "17/17 [==============================] - 0s 5ms/step - loss: 0.3955 - mean_squared_error: 0.3529\n",
            "Epoch 45/140\n",
            "17/17 [==============================] - 0s 5ms/step - loss: 0.3938 - mean_squared_error: 0.3508\n",
            "Epoch 46/140\n",
            "17/17 [==============================] - 0s 4ms/step - loss: 0.3943 - mean_squared_error: 0.3517\n",
            "Epoch 47/140\n",
            "17/17 [==============================] - 0s 5ms/step - loss: 0.3968 - mean_squared_error: 0.3549\n",
            "Epoch 48/140\n",
            "17/17 [==============================] - 0s 4ms/step - loss: 0.3918 - mean_squared_error: 0.3499\n",
            "Epoch 49/140\n",
            "17/17 [==============================] - 0s 4ms/step - loss: 0.3912 - mean_squared_error: 0.3497\n",
            "Epoch 50/140\n",
            "17/17 [==============================] - 0s 4ms/step - loss: 0.3935 - mean_squared_error: 0.3517\n",
            "Epoch 51/140\n",
            "17/17 [==============================] - 0s 5ms/step - loss: 0.3948 - mean_squared_error: 0.3532\n",
            "Epoch 52/140\n",
            "17/17 [==============================] - 0s 5ms/step - loss: 0.3899 - mean_squared_error: 0.3487\n",
            "Epoch 53/140\n",
            "17/17 [==============================] - 0s 4ms/step - loss: 0.3928 - mean_squared_error: 0.3520\n",
            "Epoch 54/140\n",
            "17/17 [==============================] - 0s 4ms/step - loss: 0.3929 - mean_squared_error: 0.3515\n",
            "Epoch 55/140\n",
            "17/17 [==============================] - 0s 4ms/step - loss: 0.3889 - mean_squared_error: 0.3485\n",
            "Epoch 56/140\n",
            "17/17 [==============================] - 0s 6ms/step - loss: 0.3878 - mean_squared_error: 0.3473\n",
            "Epoch 57/140\n",
            "17/17 [==============================] - 0s 5ms/step - loss: 0.3870 - mean_squared_error: 0.3465\n",
            "Epoch 58/140\n",
            "17/17 [==============================] - 0s 4ms/step - loss: 0.3865 - mean_squared_error: 0.3456\n",
            "Epoch 59/140\n",
            "17/17 [==============================] - 0s 4ms/step - loss: 0.3898 - mean_squared_error: 0.3505\n",
            "Epoch 60/140\n",
            "17/17 [==============================] - 0s 4ms/step - loss: 0.3923 - mean_squared_error: 0.3519\n",
            "Epoch 61/140\n",
            "17/17 [==============================] - 0s 5ms/step - loss: 0.3900 - mean_squared_error: 0.3503\n",
            "Epoch 62/140\n",
            "17/17 [==============================] - 0s 5ms/step - loss: 0.3880 - mean_squared_error: 0.3485\n",
            "Epoch 63/140\n",
            "17/17 [==============================] - 0s 4ms/step - loss: 0.3883 - mean_squared_error: 0.3487\n",
            "Epoch 64/140\n",
            "17/17 [==============================] - 0s 5ms/step - loss: 0.3867 - mean_squared_error: 0.3478\n",
            "Epoch 65/140\n",
            "17/17 [==============================] - 0s 4ms/step - loss: 0.3860 - mean_squared_error: 0.3470\n",
            "Epoch 66/140\n",
            "17/17 [==============================] - 0s 4ms/step - loss: 0.3853 - mean_squared_error: 0.3467\n",
            "Epoch 67/140\n",
            "17/17 [==============================] - 0s 4ms/step - loss: 0.3849 - mean_squared_error: 0.3458\n",
            "Epoch 68/140\n",
            "17/17 [==============================] - 0s 5ms/step - loss: 0.3882 - mean_squared_error: 0.3499\n",
            "Epoch 69/140\n",
            "17/17 [==============================] - 0s 5ms/step - loss: 0.3866 - mean_squared_error: 0.3480\n",
            "Epoch 70/140\n",
            "17/17 [==============================] - 0s 4ms/step - loss: 0.3839 - mean_squared_error: 0.3453\n",
            "Epoch 71/140\n",
            "17/17 [==============================] - 0s 4ms/step - loss: 0.3827 - mean_squared_error: 0.3444\n",
            "Epoch 72/140\n",
            "17/17 [==============================] - 0s 4ms/step - loss: 0.3836 - mean_squared_error: 0.3457\n",
            "Epoch 73/140\n",
            "17/17 [==============================] - 0s 4ms/step - loss: 0.3835 - mean_squared_error: 0.3452\n",
            "Epoch 74/140\n",
            "17/17 [==============================] - 0s 5ms/step - loss: 0.3854 - mean_squared_error: 0.3476\n",
            "Epoch 75/140\n",
            "17/17 [==============================] - 0s 5ms/step - loss: 0.3831 - mean_squared_error: 0.3459\n",
            "Epoch 76/140\n",
            "17/17 [==============================] - 0s 5ms/step - loss: 0.3843 - mean_squared_error: 0.3470\n",
            "Epoch 77/140\n",
            "17/17 [==============================] - 0s 4ms/step - loss: 0.3821 - mean_squared_error: 0.3446\n",
            "Epoch 78/140\n",
            "17/17 [==============================] - 0s 4ms/step - loss: 0.3806 - mean_squared_error: 0.3434\n",
            "Epoch 79/140\n",
            "17/17 [==============================] - 0s 4ms/step - loss: 0.3818 - mean_squared_error: 0.3448\n",
            "Epoch 80/140\n",
            "17/17 [==============================] - 0s 5ms/step - loss: 0.3866 - mean_squared_error: 0.3499\n",
            "Epoch 81/140\n",
            "17/17 [==============================] - 0s 5ms/step - loss: 0.3925 - mean_squared_error: 0.3562\n",
            "Epoch 82/140\n",
            "17/17 [==============================] - 0s 4ms/step - loss: 0.3833 - mean_squared_error: 0.3466\n",
            "Epoch 83/140\n",
            "17/17 [==============================] - 0s 4ms/step - loss: 0.3825 - mean_squared_error: 0.3459\n",
            "Epoch 84/140\n",
            "17/17 [==============================] - 0s 4ms/step - loss: 0.3843 - mean_squared_error: 0.3482\n",
            "Epoch 85/140\n",
            "17/17 [==============================] - 0s 4ms/step - loss: 0.3844 - mean_squared_error: 0.3481\n",
            "Epoch 86/140\n",
            "17/17 [==============================] - 0s 5ms/step - loss: 0.3837 - mean_squared_error: 0.3478\n",
            "Epoch 87/140\n",
            "17/17 [==============================] - 0s 5ms/step - loss: 0.3803 - mean_squared_error: 0.3444\n",
            "Epoch 88/140\n",
            "17/17 [==============================] - 0s 4ms/step - loss: 0.3806 - mean_squared_error: 0.3449\n",
            "Epoch 89/140\n",
            "17/17 [==============================] - 0s 4ms/step - loss: 0.3790 - mean_squared_error: 0.3433\n",
            "Epoch 90/140\n",
            "17/17 [==============================] - 0s 5ms/step - loss: 0.3802 - mean_squared_error: 0.3443\n",
            "Epoch 91/140\n",
            "17/17 [==============================] - 0s 7ms/step - loss: 0.3789 - mean_squared_error: 0.3439\n",
            "Epoch 92/140\n",
            "17/17 [==============================] - 0s 7ms/step - loss: 0.3791 - mean_squared_error: 0.3436\n",
            "Epoch 93/140\n",
            "17/17 [==============================] - 0s 7ms/step - loss: 0.3807 - mean_squared_error: 0.3456\n",
            "Epoch 94/140\n",
            "17/17 [==============================] - 0s 8ms/step - loss: 0.3792 - mean_squared_error: 0.3440\n",
            "Epoch 95/140\n",
            "17/17 [==============================] - 0s 6ms/step - loss: 0.3787 - mean_squared_error: 0.3442\n",
            "Epoch 96/140\n",
            "17/17 [==============================] - 0s 6ms/step - loss: 0.3792 - mean_squared_error: 0.3449\n",
            "Epoch 97/140\n",
            "17/17 [==============================] - 0s 7ms/step - loss: 0.3791 - mean_squared_error: 0.3437\n",
            "Epoch 98/140\n",
            "17/17 [==============================] - 0s 7ms/step - loss: 0.3784 - mean_squared_error: 0.3441\n",
            "Epoch 99/140\n",
            "17/17 [==============================] - 0s 7ms/step - loss: 0.3783 - mean_squared_error: 0.3438\n",
            "Epoch 100/140\n",
            "17/17 [==============================] - 0s 7ms/step - loss: 0.3779 - mean_squared_error: 0.3440\n",
            "Epoch 101/140\n",
            "17/17 [==============================] - 0s 7ms/step - loss: 0.3795 - mean_squared_error: 0.3453\n",
            "Epoch 102/140\n",
            "17/17 [==============================] - 0s 6ms/step - loss: 0.3775 - mean_squared_error: 0.3432\n",
            "Epoch 103/140\n",
            "17/17 [==============================] - 0s 7ms/step - loss: 0.3778 - mean_squared_error: 0.3435\n",
            "Epoch 104/140\n",
            "17/17 [==============================] - 0s 6ms/step - loss: 0.3789 - mean_squared_error: 0.3452\n",
            "Epoch 105/140\n",
            "17/17 [==============================] - 0s 6ms/step - loss: 0.3778 - mean_squared_error: 0.3437\n",
            "Epoch 106/140\n",
            "17/17 [==============================] - 0s 6ms/step - loss: 0.3767 - mean_squared_error: 0.3436\n",
            "Epoch 107/140\n",
            "17/17 [==============================] - 0s 7ms/step - loss: 0.3778 - mean_squared_error: 0.3439\n",
            "Epoch 108/140\n",
            "17/17 [==============================] - 0s 7ms/step - loss: 0.3770 - mean_squared_error: 0.3432\n",
            "Epoch 109/140\n",
            "17/17 [==============================] - 0s 8ms/step - loss: 0.3767 - mean_squared_error: 0.3433\n",
            "Epoch 110/140\n",
            "17/17 [==============================] - 0s 7ms/step - loss: 0.3817 - mean_squared_error: 0.3482\n",
            "Epoch 111/140\n",
            "17/17 [==============================] - 0s 7ms/step - loss: 0.3785 - mean_squared_error: 0.3458\n",
            "Epoch 112/140\n",
            "17/17 [==============================] - 0s 7ms/step - loss: 0.3804 - mean_squared_error: 0.3472\n",
            "Epoch 113/140\n",
            "17/17 [==============================] - 0s 8ms/step - loss: 0.3767 - mean_squared_error: 0.3442\n",
            "Epoch 114/140\n",
            "17/17 [==============================] - 0s 7ms/step - loss: 0.3793 - mean_squared_error: 0.3465\n",
            "Epoch 115/140\n",
            "17/17 [==============================] - 0s 7ms/step - loss: 0.3760 - mean_squared_error: 0.3428\n",
            "Epoch 116/140\n",
            "17/17 [==============================] - 0s 6ms/step - loss: 0.3767 - mean_squared_error: 0.3439\n",
            "Epoch 117/140\n",
            "17/17 [==============================] - 0s 5ms/step - loss: 0.3759 - mean_squared_error: 0.3435\n",
            "Epoch 118/140\n",
            "17/17 [==============================] - 0s 4ms/step - loss: 0.3764 - mean_squared_error: 0.3438\n",
            "Epoch 119/140\n",
            "17/17 [==============================] - 0s 4ms/step - loss: 0.3757 - mean_squared_error: 0.3434\n",
            "Epoch 120/140\n",
            "17/17 [==============================] - 0s 4ms/step - loss: 0.3739 - mean_squared_error: 0.3418\n",
            "Epoch 121/140\n",
            "17/17 [==============================] - 0s 5ms/step - loss: 0.3751 - mean_squared_error: 0.3423\n",
            "Epoch 122/140\n",
            "17/17 [==============================] - 0s 4ms/step - loss: 0.3741 - mean_squared_error: 0.3419\n",
            "Epoch 123/140\n",
            "17/17 [==============================] - 0s 5ms/step - loss: 0.3766 - mean_squared_error: 0.3448\n",
            "Epoch 124/140\n",
            "17/17 [==============================] - 0s 5ms/step - loss: 0.3752 - mean_squared_error: 0.3436\n",
            "Epoch 125/140\n",
            "17/17 [==============================] - 0s 4ms/step - loss: 0.3753 - mean_squared_error: 0.3432\n",
            "Epoch 126/140\n",
            "17/17 [==============================] - 0s 5ms/step - loss: 0.3731 - mean_squared_error: 0.3412\n",
            "Epoch 127/140\n",
            "17/17 [==============================] - 0s 5ms/step - loss: 0.3734 - mean_squared_error: 0.3416\n",
            "Epoch 128/140\n",
            "17/17 [==============================] - 0s 4ms/step - loss: 0.3757 - mean_squared_error: 0.3439\n",
            "Epoch 129/140\n",
            "17/17 [==============================] - 0s 5ms/step - loss: 0.3742 - mean_squared_error: 0.3429\n",
            "Epoch 130/140\n",
            "17/17 [==============================] - 0s 4ms/step - loss: 0.3747 - mean_squared_error: 0.3430\n",
            "Epoch 131/140\n",
            "17/17 [==============================] - 0s 4ms/step - loss: 0.3743 - mean_squared_error: 0.3432\n",
            "Epoch 132/140\n",
            "17/17 [==============================] - 0s 5ms/step - loss: 0.3774 - mean_squared_error: 0.3464\n",
            "Epoch 133/140\n",
            "17/17 [==============================] - 0s 5ms/step - loss: 0.3769 - mean_squared_error: 0.3456\n",
            "Epoch 134/140\n",
            "17/17 [==============================] - 0s 4ms/step - loss: 0.3761 - mean_squared_error: 0.3453\n",
            "Epoch 135/140\n",
            "17/17 [==============================] - 0s 5ms/step - loss: 0.3743 - mean_squared_error: 0.3429\n",
            "Epoch 136/140\n",
            "17/17 [==============================] - 0s 5ms/step - loss: 0.3733 - mean_squared_error: 0.3427\n",
            "Epoch 137/140\n",
            "17/17 [==============================] - 0s 5ms/step - loss: 0.3723 - mean_squared_error: 0.3417\n",
            "Epoch 138/140\n",
            "17/17 [==============================] - 0s 5ms/step - loss: 0.3732 - mean_squared_error: 0.3419\n",
            "Epoch 139/140\n",
            "17/17 [==============================] - 0s 5ms/step - loss: 0.3731 - mean_squared_error: 0.3428\n",
            "Epoch 140/140\n",
            "17/17 [==============================] - 0s 5ms/step - loss: 0.3738 - mean_squared_error: 0.3434\n"
          ]
        },
        {
          "output_type": "display_data",
          "data": {
            "text/plain": [
              "<Figure size 640x480 with 1 Axes>"
            ],
            "image/png": "[encoded data removed]"
          },
          "metadata": {}
        },
        {
          "output_type": "stream",
          "name": "stderr",
          "text": [
            "WARNING:tensorflow:Layers in a Sequential model should only have a single input tensor. Received: inputs={'longitude': <tf.Tensor 'IteratorGetNext:3' shape=(1000,) dtype=float32>, 'latitude': <tf.Tensor 'IteratorGetNext:2' shape=(1000,) dtype=float32>, 'housing_median_age': <tf.Tensor 'IteratorGetNext:1' shape=(1000,) dtype=float32>, 'total_rooms': <tf.Tensor 'IteratorGetNext:7' shape=(1000,) dtype=float32>, 'total_bedrooms': <tf.Tensor 'IteratorGetNext:6' shape=(1000,) dtype=float32>, 'population': <tf.Tensor 'IteratorGetNext:5' shape=(1000,) dtype=float32>, 'households': <tf.Tensor 'IteratorGetNext:0' shape=(1000,) dtype=float32>, 'median_income': <tf.Tensor 'IteratorGetNext:4' shape=(1000,) dtype=float32>}. Consider rewriting this model with the Functional API.\n"
          ]
        },
        {
          "output_type": "stream",
          "name": "stdout",
          "text": [
            "\n",
            " Evaluate the new model against the test set:\n",
            "3/3 [==============================] - 0s 9ms/step - loss: 0.4058 - mean_squared_error: 0.3759\n"
          ]
        },
        {
          "output_type": "execute_result",
          "data": {
            "text/plain": [
              "[0.40582364797592163, 0.37585344910621643]"
            ]
          },
          "metadata": {},
          "execution_count": 13
        }
      ]
    }
  ]
}